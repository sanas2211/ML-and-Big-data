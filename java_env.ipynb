{
  "nbformat": 4,
  "nbformat_minor": 0,
  "metadata": {
    "colab": {
      "provenance": [],
      "authorship_tag": "ABX9TyOY5fiR0AlVpo4RAe34OeMt",
      "include_colab_link": true
    },
    "kernelspec": {
      "name": "python3",
      "display_name": "Python 3"
    },
    "language_info": {
      "name": "python"
    }
  },
  "cells": [
    {
      "cell_type": "markdown",
      "metadata": {
        "id": "view-in-github",
        "colab_type": "text"
      },
      "source": [
        "<a href=\"https://colab.research.google.com/github/sanas2211/ML-and-Big-data/blob/main/java_env.ipynb\" target=\"_parent\"><img src=\"https://colab.research.google.com/assets/colab-badge.svg\" alt=\"Open In Colab\"/></a>"
      ]
    },
    {
      "cell_type": "code",
      "execution_count": null,
      "metadata": {
        "id": "vq8bJMoLkKC7"
      },
      "outputs": [],
      "source": [
        "!apt-get update\n",
        "!apt-get install openjdk-8-jdk-headless -qq > /dev/null\n",
        "!pip install pyspark\n",
        "\n",
        "\n",
        "import os\n",
        "os.environ[\"JAVA_HOME\"] = \"/usr/lib/jvm/java-8-openjdk-amd64\"\n",
        "os.environ[\"PATH\"] = os.environ[\"JAVA_HOME\"] + \"/bin:\" + os.environ[\"PATH\"]\n",
        "\n",
        "\n",
        "!wget https://archive.apache.org/dist/hadoop/core/hadoop-2.7.7/hadoop-2.7.7.tar.gz\n",
        "!tar -xvzf hadoop-2.7.7.tar.gz\n",
        "!mv hadoop-2.7.7 hadoop\n",
        "\n",
        "# Configure Hadoop\n",
        "os.environ[\"HADOOP_HOME\"] = \"/content/hadoop\"\n",
        "os.environ[\"PATH\"] += \":/content/hadoop/bin\"\n",
        "\n",
        "\n",
        "# Write core-site.xml using Python file handling\n",
        "core_site_config = \"\"\"\n",
        "<configuration>\n",
        "  <property>\n",
        "<name>fs.defaultFS</name>\n",
        "<value>file:///</value>\n",
        "</property>\n",
        " </configuration>\n",
        "      \"\"\"\n",
        "\n",
        "with open(\"/content/hadoop/etc/hadoop/core-site.xml\", \"w\") as file:\n",
        "file.write(core_site_config)\n",
        "\n",
        "\n",
        "                !apt-get update\n",
        "                !apt-get install openjdk-8-jdk-headless -qq > /dev/null\n",
        "                !pip install pyspark\n",
        "\n",
        "\n",
        "                import os\n",
        "                os.environ[\"JAVA_HOME\"] = \"/usr/lib/jvm/java-8-openjdk-amd64\"\n",
        "                os.environ[\"PATH\"] = os.environ[\"JAVA_HOME\"] + \"/bin:\" + os.environ[\"PATH\"]\n",
        "\n",
        "\n",
        "                !wget https://archive.apache.org/dist/hadoop/core/hadoop-2.7.7/hadoop-2.7.7.tar.gz\n",
        "                !tar -xvzf hadoop-2.7.7.tar.gz\n",
        "                !mv hadoop-2.7.7 hadoop\n",
        "\n",
        "                # Configure Hadoop\n",
        "                os.environ[\"HADOOP_HOME\"] = \"/content/hadoop\"\n",
        "                os.environ[\"PATH\"] += \":/content/hadoop/bin\"\n",
        "\n",
        "\n",
        "                # Write core-site.xml using Python file handling\n",
        "                core_site_config = \"\"\"\n",
        "                <configuration>\n",
        "                  <property>\n",
        "                      <name>fs.defaultFS</name>\n",
        "                          <value>file:///</value>\n",
        "                            </property>\n",
        "                            </configuration>\n",
        "                            \"\"\"\n",
        "\n",
        "                            with open(\"/content/hadoop/etc/hadoop/core-site.xml\", \"w\") as file:\n",
        "                                file.write(core_site_config)\n",
        "\n",
        "\n"
      ]
    }
  ]
}